{
 "cells": [
  {
   "cell_type": "code",
   "execution_count": 5,
   "id": "9dfb88d6",
   "metadata": {},
   "outputs": [
    {
     "data": {
      "text/plain": [
       "23"
      ]
     },
     "execution_count": 5,
     "metadata": {},
     "output_type": "execute_result"
    }
   ],
   "source": [
    "by = 1999\n",
    "cy = 2022\n",
    "cy-by"
   ]
  },
  {
   "cell_type": "code",
   "execution_count": 7,
   "id": "c03f3fff",
   "metadata": {},
   "outputs": [
    {
     "data": {
      "text/plain": [
       "'Md Mohsin Ansari'"
      ]
     },
     "execution_count": 7,
     "metadata": {},
     "output_type": "execute_result"
    }
   ],
   "source": [
    "a = \"Md \"\n",
    "b = \"Mohsin \"\n",
    "c = \"Ansari\"\n",
    "a+b+c"
   ]
  },
  {
   "cell_type": "code",
   "execution_count": 13,
   "id": "a338da3c",
   "metadata": {},
   "outputs": [
    {
     "ename": "SyntaxError",
     "evalue": "invalid decimal literal (2014891784.py, line 2)",
     "output_type": "error",
     "traceback": [
      "\u001b[1;36m  Input \u001b[1;32mIn [13]\u001b[1;36m\u001b[0m\n\u001b[1;33m    1record = 5 # '1record' not a variable\u001b[0m\n\u001b[1;37m    ^\u001b[0m\n\u001b[1;31mSyntaxError\u001b[0m\u001b[1;31m:\u001b[0m invalid decimal literal\n"
     ]
    }
   ],
   "source": [
    "_nation = 5 # '_nation' not a variable\n",
    "1record = 5 # '1record' not a variable\n",
    "record1 = 5 \n",
    "record_one = 5 \n",
    "record-one = 5 \n",
    "record^one = 5 \n",
    "continue = 5"
   ]
  },
  {
   "cell_type": "code",
   "execution_count": 15,
   "id": "136969d4",
   "metadata": {},
   "outputs": [
    {
     "ename": "NameError",
     "evalue": "name 'record' is not defined",
     "output_type": "error",
     "traceback": [
      "\u001b[1;31m---------------------------------------------------------------------------\u001b[0m",
      "\u001b[1;31mNameError\u001b[0m                                 Traceback (most recent call last)",
      "Input \u001b[1;32mIn [15]\u001b[0m, in \u001b[0;36m<module>\u001b[1;34m\u001b[0m\n\u001b[1;32m----> 1\u001b[0m \u001b[43mrecord\u001b[49m\u001b[38;5;241m^\u001b[39mone\n",
      "\u001b[1;31mNameError\u001b[0m: name 'record' is not defined"
     ]
    }
   ],
   "source": [
    "record^one"
   ]
  }
 ],
 "metadata": {
  "kernelspec": {
   "display_name": "Python 3 (ipykernel)",
   "language": "python",
   "name": "python3"
  },
  "language_info": {
   "codemirror_mode": {
    "name": "ipython",
    "version": 3
   },
   "file_extension": ".py",
   "mimetype": "text/x-python",
   "name": "python",
   "nbconvert_exporter": "python",
   "pygments_lexer": "ipython3",
   "version": "3.10.2"
  }
 },
 "nbformat": 4,
 "nbformat_minor": 5
}
