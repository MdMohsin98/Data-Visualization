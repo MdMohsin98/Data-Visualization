{
 "cells": [
  {
   "cell_type": "code",
   "execution_count": 3,
   "id": "4fdcd356",
   "metadata": {},
   "outputs": [],
   "source": [
    "import mysql.connector\n",
    "from mysql.connector import Error\n",
    "import pandas as pd"
   ]
  },
  {
   "cell_type": "code",
   "execution_count": 4,
   "id": "616e9116",
   "metadata": {},
   "outputs": [
    {
     "name": "stdout",
     "output_type": "stream",
     "text": [
      " My SQL database connection Successful \n"
     ]
    }
   ],
   "source": [
    "# Creating a Server Connection to MySQL database\n",
    "\n",
    "def create_server_connection(host_name, user_name, user_password):\n",
    "    connection = None\n",
    "    try:\n",
    "        connection = mysql.connector.connect(\n",
    "            host = host_name, \n",
    "            user = user_name,\n",
    "            password = user_password)\n",
    "        print(\" My SQL database connection Successful \")\n",
    "    except Error as err:\n",
    "        print(f\"Error: '{err}'\")\n",
    "    return connection\n",
    "\n",
    "# Put our MySQL terminal password\n",
    "\n",
    "pw = \"root\"\n",
    "\n",
    "# Database name\n",
    "\n",
    "db = \"mysql_python\"\n",
    "connection = create_server_connection(\"localhost\", \"root\", pw)\n",
    "            "
   ]
  },
  {
   "cell_type": "code",
   "execution_count": 5,
   "id": "dddb55c4",
   "metadata": {},
   "outputs": [
    {
     "name": "stdout",
     "output_type": "stream",
     "text": [
      "Database created successfully\n"
     ]
    }
   ],
   "source": [
    "# Creating a database mysql_python\n",
    "\n",
    "def create_database(connection, query):\n",
    "    cursor = connection.cursor()\n",
    "    try:\n",
    "        cursor.execute(query)\n",
    "        print(\"Database created successfully\")\n",
    "    except Error as err:\n",
    "        print(f\"Error: '{err}'\")\n",
    "create_database_query = \"Create Database mysql_python\" # the code \"Create Database mysql_python\" is of mySQL\n",
    "create_database(connection, create_database_query)"
   ]
  },
  {
   "cell_type": "code",
   "execution_count": 7,
   "id": "03675552",
   "metadata": {},
   "outputs": [],
   "source": [
    "# Connect to database\n",
    "\n",
    "def create_db_connection(host_name, user_name, user_password, db_name):\n",
    "    connection = None\n",
    "    try:\n",
    "        connection = mysql.connector.connect(host = host_name, user = user_name, \n",
    "                                            passwd = user_password, database = db_name)\n",
    "        print(\"Database connection Successful\")\n",
    "    except Error as err:\n",
    "        print(f\"Error: '{err}'\")\n",
    "    return connection\n",
    "              "
   ]
  },
  {
   "cell_type": "code",
   "execution_count": 9,
   "id": "45d6a5ba",
   "metadata": {},
   "outputs": [],
   "source": [
    "# Executing SQL queries\n",
    "def execute_query(connection, query):\n",
    "    cursor = connection.cursor()\n",
    "    try:\n",
    "        cursor.execute(query)\n",
    "        connection.commit()\n",
    "        print(\"Query Successful\")\n",
    "    except Error as err:\n",
    "        print(f\"Error: '{err}'\")"
   ]
  },
  {
   "cell_type": "code",
   "execution_count": 11,
   "id": "558f6f40",
   "metadata": {},
   "outputs": [
    {
     "name": "stdout",
     "output_type": "stream",
     "text": [
      "Database connection Successful\n",
      "Connection Successful\n"
     ]
    }
   ],
   "source": [
    "# Creating a table by python in SQL\n",
    "create_orders_table = '''\n",
    "create table orders(order_id int primary key, \n",
    "                    customer_name varchar(30) not null,\n",
    "                    product_name varchar(20) not null,\n",
    "                    date_ordered date,\n",
    "                    quantity int,\n",
    "                    unit_price float,\n",
    "                    phone_number varchar(20));\n",
    "                    '''\n",
    "# Connecting to the database\n",
    "connection = create_db_connection('localhost', 'root', pw, db)\n",
    "execute_query(connection, create_orders_table)"
   ]
  },
  {
   "cell_type": "code",
   "execution_count": 12,
   "id": "350a83fd",
   "metadata": {},
   "outputs": [
    {
     "name": "stdout",
     "output_type": "stream",
     "text": [
      "Database connection Successful\n",
      "Connection Successful\n"
     ]
    }
   ],
   "source": [
    "# Inserting Data into the sql table\n",
    "\n",
    "data_orders =  ''' insert into orders values \n",
    "                (101, 'Steve', 'Laptop', '2018-06-12', 2, 800, '6293730802'),\n",
    "                (102, 'Jos', 'Books', '2019-02-10', 10,12,'8367489124'),\n",
    "                (103, 'Stacy', 'Trousers', '2019-12-25', 5, 50, '8976123645'),\n",
    "                (104, 'Nancy', 'T-Shirts', '2018-07-14', 7, 30, '7368145099'),\n",
    "                (105, 'Maria', 'Headphones', '2019-05-30', 6, 48, '8865316698'),\n",
    "                (106, 'Dany', 'Smart TV', '2018-08-20', 10, 300, '7720130449'); '''\n",
    "connection = create_db_connection('localhost', 'root', pw, db)\n",
    "execute_query(connection, data_orders)"
   ]
  },
  {
   "cell_type": "code",
   "execution_count": 14,
   "id": "7ab3b629",
   "metadata": {},
   "outputs": [],
   "source": [
    "# To read the database from mySQL\n",
    "def read_query(connection, query):\n",
    "    cursor = connection.cursor()\n",
    "    result = None\n",
    "    try:\n",
    "        cursor.execute(query)\n",
    "        result = cursor.fetchall()\n",
    "        return result\n",
    "    except Error as err:\n",
    "        print(f\"Error : '{err}'\")\n"
   ]
  },
  {
   "cell_type": "code",
   "execution_count": 16,
   "id": "ccec3325",
   "metadata": {},
   "outputs": [
    {
     "name": "stdout",
     "output_type": "stream",
     "text": [
      "Database connection Successful\n",
      "(101, 'Steve', 'Laptop', datetime.date(2018, 6, 12), 2, 800.0, '6293730802')\n",
      "(102, 'Jos', 'Books', datetime.date(2019, 2, 10), 10, 12.0, '8367489124')\n",
      "(103, 'Stacy', 'Trousers', datetime.date(2019, 12, 25), 5, 50.0, '8976123645')\n",
      "(104, 'Nancy', 'T-Shirts', datetime.date(2018, 7, 14), 7, 30.0, '7368145099')\n",
      "(105, 'Maria', 'Headphones', datetime.date(2019, 5, 30), 6, 48.0, '8865316698')\n",
      "(106, 'Dany', 'Smart TV', datetime.date(2018, 8, 20), 10, 300.0, '7720130449')\n"
     ]
    }
   ],
   "source": [
    "# Using the 'Select' statement of SQL\n",
    "q1 = ''' Select * from orders;'''\n",
    "\n",
    "connection = create_db_connection(\"localhost\", 'root', pw, db)\n",
    "results = read_query(connection, q1)\n",
    "for result in results:\n",
    "    print(result)"
   ]
  },
  {
   "cell_type": "code",
   "execution_count": 19,
   "id": "5f20cafa",
   "metadata": {},
   "outputs": [
    {
     "name": "stdout",
     "output_type": "stream",
     "text": [
      "Database connection Successful\n",
      "('Steve', '6293730802')\n",
      "('Jos', '8367489124')\n",
      "('Stacy', '8976123645')\n",
      "('Nancy', '7368145099')\n",
      "('Maria', '8865316698')\n",
      "('Dany', '7720130449')\n"
     ]
    }
   ],
   "source": [
    "# Using the 'Select' statement of SQL\n",
    "q2 = ''' Select customer_name, phone_number from orders;'''\n",
    "\n",
    "connection = create_db_connection(\"localhost\", 'root', pw, db)\n",
    "results = read_query(connection, q2)\n",
    "for result in results:\n",
    "    print(result)"
   ]
  },
  {
   "cell_type": "code",
   "execution_count": 20,
   "id": "9be758fb",
   "metadata": {},
   "outputs": [
    {
     "name": "stdout",
     "output_type": "stream",
     "text": [
      "Database connection Successful\n",
      "(2018,)\n",
      "(2019,)\n",
      "(2019,)\n",
      "(2018,)\n",
      "(2019,)\n",
      "(2018,)\n"
     ]
    }
   ],
   "source": [
    "# Using the 'Select' statement of SQL\n",
    "q3 = ''' Select year(date_ordered) from orders;'''\n",
    "\n",
    "connection = create_db_connection(\"localhost\", 'root', pw, db)\n",
    "results = read_query(connection, q3)\n",
    "for result in results:\n",
    "    print(result)"
   ]
  },
  {
   "cell_type": "code",
   "execution_count": 21,
   "id": "8dfc6a99",
   "metadata": {},
   "outputs": [
    {
     "name": "stdout",
     "output_type": "stream",
     "text": [
      "Database connection Successful\n",
      "(2018,)\n",
      "(2019,)\n"
     ]
    }
   ],
   "source": [
    "# Using the 'Select' statement of SQL\n",
    "q4 = ''' Select distinct(year(date_ordered)) from orders;'''\n",
    "\n",
    "connection = create_db_connection(\"localhost\", 'root', pw, db)\n",
    "results = read_query(connection, q4)\n",
    "for result in results:\n",
    "    print(result)"
   ]
  },
  {
   "cell_type": "code",
   "execution_count": 25,
   "id": "bb2fe32b",
   "metadata": {},
   "outputs": [
    {
     "name": "stdout",
     "output_type": "stream",
     "text": [
      "Database connection Successful\n",
      "(101, 'Steve', 'Laptop', datetime.date(2018, 6, 12), 2, 800.0, '6293730802')\n",
      "(104, 'Nancy', 'T-Shirts', datetime.date(2018, 7, 14), 7, 30.0, '7368145099')\n",
      "(106, 'Dany', 'Smart TV', datetime.date(2018, 8, 20), 10, 300.0, '7720130449')\n"
     ]
    }
   ],
   "source": [
    "# Using the 'Where' clause of SQL\n",
    "q5 = ''' Select * from orders where date_ordered < '2018-12-31';'''\n",
    "\n",
    "connection = create_db_connection(\"localhost\", 'root', pw, db)\n",
    "results = read_query(connection, q5)\n",
    "for result in results:\n",
    "    print(result)"
   ]
  },
  {
   "cell_type": "code",
   "execution_count": 27,
   "id": "cc0651ae",
   "metadata": {},
   "outputs": [
    {
     "name": "stdout",
     "output_type": "stream",
     "text": [
      "Database connection Successful\n",
      "(102, 'Jos', 'Books', datetime.date(2019, 2, 10), 10, 12.0, '8367489124')\n",
      "(103, 'Stacy', 'Trousers', datetime.date(2019, 12, 25), 5, 50.0, '8976123645')\n",
      "(105, 'Maria', 'Headphones', datetime.date(2019, 5, 30), 6, 48.0, '8865316698')\n"
     ]
    }
   ],
   "source": [
    "# Using the 'Where' clause of SQL\n",
    "q6 = ''' Select * from orders where date_ordered > '2018-12-31';'''\n",
    "\n",
    "connection = create_db_connection(\"localhost\", 'root', pw, db)\n",
    "results = read_query(connection, q6)\n",
    "for result in results:\n",
    "    print(result)"
   ]
  },
  {
   "cell_type": "code",
   "execution_count": 28,
   "id": "637f79d1",
   "metadata": {},
   "outputs": [
    {
     "name": "stdout",
     "output_type": "stream",
     "text": [
      "Database connection Successful\n",
      "(102, 'Jos', 'Books', datetime.date(2019, 2, 10), 10, 12.0, '8367489124')\n",
      "(104, 'Nancy', 'T-Shirts', datetime.date(2018, 7, 14), 7, 30.0, '7368145099')\n",
      "(105, 'Maria', 'Headphones', datetime.date(2019, 5, 30), 6, 48.0, '8865316698')\n",
      "(103, 'Stacy', 'Trousers', datetime.date(2019, 12, 25), 5, 50.0, '8976123645')\n",
      "(106, 'Dany', 'Smart TV', datetime.date(2018, 8, 20), 10, 300.0, '7720130449')\n",
      "(101, 'Steve', 'Laptop', datetime.date(2018, 6, 12), 2, 800.0, '6293730802')\n"
     ]
    }
   ],
   "source": [
    "# Using the 'Order by' clause of SQL\n",
    "q7 = ''' Select * from orders order by unit_price;'''\n",
    "\n",
    "connection = create_db_connection(\"localhost\", 'root', pw, db)\n",
    "results = read_query(connection, q7)\n",
    "for result in results:\n",
    "    print(result)"
   ]
  },
  {
   "cell_type": "code",
   "execution_count": 29,
   "id": "2ac91615",
   "metadata": {},
   "outputs": [
    {
     "name": "stdout",
     "output_type": "stream",
     "text": [
      "Database connection Successful\n",
      "(101, 'Steve', 'Laptop', datetime.date(2018, 6, 12), 2, 800.0, '6293730802')\n",
      "(106, 'Dany', 'Smart TV', datetime.date(2018, 8, 20), 10, 300.0, '7720130449')\n",
      "(103, 'Stacy', 'Trousers', datetime.date(2019, 12, 25), 5, 50.0, '8976123645')\n",
      "(105, 'Maria', 'Headphones', datetime.date(2019, 5, 30), 6, 48.0, '8865316698')\n",
      "(104, 'Nancy', 'T-Shirts', datetime.date(2018, 7, 14), 7, 30.0, '7368145099')\n",
      "(102, 'Jos', 'Books', datetime.date(2019, 2, 10), 10, 12.0, '8367489124')\n"
     ]
    }
   ],
   "source": [
    "# Using the 'Order by' clause of SQL\n",
    "q7 = ''' Select * from orders order by unit_price desc;'''\n",
    "\n",
    "connection = create_db_connection(\"localhost\", 'root', pw, db)\n",
    "results = read_query(connection, q7)\n",
    "for result in results:\n",
    "    print(result)"
   ]
  },
  {
   "cell_type": "code",
   "execution_count": 31,
   "id": "fdf329f9",
   "metadata": {},
   "outputs": [
    {
     "data": {
      "text/html": [
       "<div>\n",
       "<style scoped>\n",
       "    .dataframe tbody tr th:only-of-type {\n",
       "        vertical-align: middle;\n",
       "    }\n",
       "\n",
       "    .dataframe tbody tr th {\n",
       "        vertical-align: top;\n",
       "    }\n",
       "\n",
       "    .dataframe thead th {\n",
       "        text-align: right;\n",
       "    }\n",
       "</style>\n",
       "<table border=\"1\" class=\"dataframe\">\n",
       "  <thead>\n",
       "    <tr style=\"text-align: right;\">\n",
       "      <th></th>\n",
       "      <th>order_id</th>\n",
       "      <th>customer_name</th>\n",
       "      <th>product_name</th>\n",
       "      <th>date_ordered</th>\n",
       "      <th>quantity</th>\n",
       "      <th>unit_price</th>\n",
       "      <th>phone_number</th>\n",
       "    </tr>\n",
       "  </thead>\n",
       "  <tbody>\n",
       "    <tr>\n",
       "      <th>0</th>\n",
       "      <td>101</td>\n",
       "      <td>Steve</td>\n",
       "      <td>Laptop</td>\n",
       "      <td>2018-06-12</td>\n",
       "      <td>2</td>\n",
       "      <td>800.0</td>\n",
       "      <td>6293730802</td>\n",
       "    </tr>\n",
       "    <tr>\n",
       "      <th>1</th>\n",
       "      <td>106</td>\n",
       "      <td>Dany</td>\n",
       "      <td>Smart TV</td>\n",
       "      <td>2018-08-20</td>\n",
       "      <td>10</td>\n",
       "      <td>300.0</td>\n",
       "      <td>7720130449</td>\n",
       "    </tr>\n",
       "    <tr>\n",
       "      <th>2</th>\n",
       "      <td>103</td>\n",
       "      <td>Stacy</td>\n",
       "      <td>Trousers</td>\n",
       "      <td>2019-12-25</td>\n",
       "      <td>5</td>\n",
       "      <td>50.0</td>\n",
       "      <td>8976123645</td>\n",
       "    </tr>\n",
       "    <tr>\n",
       "      <th>3</th>\n",
       "      <td>105</td>\n",
       "      <td>Maria</td>\n",
       "      <td>Headphones</td>\n",
       "      <td>2019-05-30</td>\n",
       "      <td>6</td>\n",
       "      <td>48.0</td>\n",
       "      <td>8865316698</td>\n",
       "    </tr>\n",
       "    <tr>\n",
       "      <th>4</th>\n",
       "      <td>104</td>\n",
       "      <td>Nancy</td>\n",
       "      <td>T-Shirts</td>\n",
       "      <td>2018-07-14</td>\n",
       "      <td>7</td>\n",
       "      <td>30.0</td>\n",
       "      <td>7368145099</td>\n",
       "    </tr>\n",
       "    <tr>\n",
       "      <th>5</th>\n",
       "      <td>102</td>\n",
       "      <td>Jos</td>\n",
       "      <td>Books</td>\n",
       "      <td>2019-02-10</td>\n",
       "      <td>10</td>\n",
       "      <td>12.0</td>\n",
       "      <td>8367489124</td>\n",
       "    </tr>\n",
       "  </tbody>\n",
       "</table>\n",
       "</div>"
      ],
      "text/plain": [
       "   order_id customer_name product_name date_ordered  quantity  unit_price  \\\n",
       "0       101         Steve       Laptop   2018-06-12         2       800.0   \n",
       "1       106          Dany     Smart TV   2018-08-20        10       300.0   \n",
       "2       103         Stacy     Trousers   2019-12-25         5        50.0   \n",
       "3       105         Maria   Headphones   2019-05-30         6        48.0   \n",
       "4       104         Nancy     T-Shirts   2018-07-14         7        30.0   \n",
       "5       102           Jos        Books   2019-02-10        10        12.0   \n",
       "\n",
       "  phone_number  \n",
       "0   6293730802  \n",
       "1   7720130449  \n",
       "2   8976123645  \n",
       "3   8865316698  \n",
       "4   7368145099  \n",
       "5   8367489124  "
      ]
     },
     "metadata": {},
     "output_type": "display_data"
    }
   ],
   "source": [
    "# Creating pandas DataFrame using SQL Queries\n",
    "from_db = []\n",
    "for result in results:\n",
    "    result = list(result)\n",
    "    from_db.append(result)\n",
    "columns = ['order_id', 'customer_name', 'product_name', 'date_ordered', 'quantity', 'unit_price',\n",
    "          'phone_number']\n",
    "df = pd.DataFrame(from_db, columns = columns)\n",
    "display(df)"
   ]
  },
  {
   "cell_type": "code",
   "execution_count": 34,
   "id": "ebf8be09",
   "metadata": {},
   "outputs": [
    {
     "name": "stdout",
     "output_type": "stream",
     "text": [
      "Database connection Successful\n",
      "Connection Successful\n"
     ]
    }
   ],
   "source": [
    "# Using 'Update command'\n",
    "\n",
    "update = ''' update orders set unit_price = 45 where order_id = 103;'''\n",
    "connection = create_db_connection(\"localhost\", 'root', pw, db)\n",
    "execute_query(connection, update)"
   ]
  },
  {
   "cell_type": "code",
   "execution_count": 36,
   "id": "1db53475",
   "metadata": {},
   "outputs": [
    {
     "name": "stdout",
     "output_type": "stream",
     "text": [
      "Database connection Successful\n",
      "(103, 'Stacy', 'Trousers', datetime.date(2019, 12, 25), 5, 45.0, '8976123645')\n"
     ]
    }
   ],
   "source": [
    "# To show the changes after update command\n",
    "q8 = ''' Select * from orders where order_id = 103;'''\n",
    "\n",
    "connection = create_db_connection(\"localhost\", 'root', pw, db)\n",
    "results = read_query(connection, q8)\n",
    "for result in results:\n",
    "    print(result)"
   ]
  },
  {
   "cell_type": "code",
   "execution_count": 37,
   "id": "0e479a0f",
   "metadata": {},
   "outputs": [
    {
     "name": "stdout",
     "output_type": "stream",
     "text": [
      "Database connection Successful\n",
      "Connection Successful\n"
     ]
    }
   ],
   "source": [
    "# Using Delete command\n",
    "delete_order = ''' delete from orders where order_id = 105;'''\n",
    "connection = create_db_connection(\"localhost\", 'root', pw, db)\n",
    "execute_query(connection, delete_order)"
   ]
  },
  {
   "cell_type": "code",
   "execution_count": 38,
   "id": "a17ee86b",
   "metadata": {},
   "outputs": [
    {
     "name": "stdout",
     "output_type": "stream",
     "text": [
      "Database connection Successful\n",
      "(101, 'Steve', 'Laptop', datetime.date(2018, 6, 12), 2, 800.0, '6293730802')\n",
      "(102, 'Jos', 'Books', datetime.date(2019, 2, 10), 10, 12.0, '8367489124')\n",
      "(103, 'Stacy', 'Trousers', datetime.date(2019, 12, 25), 5, 45.0, '8976123645')\n",
      "(104, 'Nancy', 'T-Shirts', datetime.date(2018, 7, 14), 7, 30.0, '7368145099')\n",
      "(106, 'Dany', 'Smart TV', datetime.date(2018, 8, 20), 10, 300.0, '7720130449')\n"
     ]
    }
   ],
   "source": [
    "# To show the changes after delete command\n",
    "q9 = ''' Select * from orders ;'''\n",
    "\n",
    "connection = create_db_connection(\"localhost\", 'root', pw, db)\n",
    "results = read_query(connection, q9)\n",
    "for result in results:\n",
    "    print(result)"
   ]
  }
 ],
 "metadata": {
  "kernelspec": {
   "display_name": "Python 3 (ipykernel)",
   "language": "python",
   "name": "python3"
  },
  "language_info": {
   "codemirror_mode": {
    "name": "ipython",
    "version": 3
   },
   "file_extension": ".py",
   "mimetype": "text/x-python",
   "name": "python",
   "nbconvert_exporter": "python",
   "pygments_lexer": "ipython3",
   "version": "3.10.2"
  }
 },
 "nbformat": 4,
 "nbformat_minor": 5
}
